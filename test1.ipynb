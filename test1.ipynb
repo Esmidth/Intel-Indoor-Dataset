{
 "metadata": {
  "language_info": {
   "codemirror_mode": {
    "name": "ipython",
    "version": 3
   },
   "file_extension": ".py",
   "mimetype": "text/x-python",
   "name": "python",
   "nbconvert_exporter": "python",
   "pygments_lexer": "ipython3",
   "version": "3.7.6-final"
  },
  "orig_nbformat": 2,
  "kernelspec": {
   "name": "python37664bitccstaconda3a2139a6822448159c7afc22ea6ab768",
   "display_name": "Python 3.7.6 64-bit ('ccs_ta': conda)"
  }
 },
 "nbformat": 4,
 "nbformat_minor": 2,
 "cells": [
  {
   "cell_type": "code",
   "execution_count": 1,
   "metadata": {},
   "outputs": [],
   "source": [
    "import pandas as pd\n",
    "import numpy as np"
   ]
  },
  {
   "cell_type": "markdown",
   "metadata": {},
   "source": [
    "## read data from csv file"
   ]
  },
  {
   "cell_type": "code",
   "execution_count": 6,
   "metadata": {},
   "outputs": [],
   "source": [
    "df = pd.read_csv('data.csv',sep=' ')"
   ]
  },
  {
   "cell_type": "code",
   "execution_count": 8,
   "metadata": {},
   "outputs": [],
   "source": [
    "df_sub = df.dropna()"
   ]
  },
  {
   "cell_type": "code",
   "execution_count": 15,
   "metadata": {},
   "outputs": [
    {
     "output_type": "execute_result",
     "data": {
      "text/plain": "               date             time  epoch  moteid  temperature  humidity  \\\n0        2004-03-31  03:38:15.757551      2     1.0     122.1530  -3.91901   \n1        2004-02-28   00:59:16.02785      3     1.0      19.9884  37.09330   \n2        2004-02-28   01:03:16.33393     11     1.0      19.3024  38.46290   \n3        2004-02-28  01:06:16.013453     17     1.0      19.1652  38.80390   \n4        2004-02-28  01:06:46.778088     18     1.0      19.1750  38.83790   \n...             ...              ...    ...     ...          ...       ...   \n2313677  2004-04-02  01:14:54.164318  61274     NaN          NaN       NaN   \n2313678  2004-04-02  01:17:53.670524  61275     NaN          NaN       NaN   \n2313679  2004-04-02  01:20:52.807972  61276     NaN          NaN       NaN   \n2313680  2004-04-02  01:26:53.950342  61278     NaN          NaN       NaN   \n2313681  2004-04-02  01:35:53.897412  61280     NaN          NaN       NaN   \n\n         light  voltage  \n0        11.04  2.03397  \n1        45.08  2.69964  \n2        45.08  2.68742  \n3        45.08  2.68742  \n4        45.08  2.69964  \n...        ...      ...  \n2313677    NaN      NaN  \n2313678    NaN      NaN  \n2313679    NaN      NaN  \n2313680    NaN      NaN  \n2313681    NaN      NaN  \n\n[2313682 rows x 8 columns]",
      "text/html": "<div>\n<style scoped>\n    .dataframe tbody tr th:only-of-type {\n        vertical-align: middle;\n    }\n\n    .dataframe tbody tr th {\n        vertical-align: top;\n    }\n\n    .dataframe thead th {\n        text-align: right;\n    }\n</style>\n<table border=\"1\" class=\"dataframe\">\n  <thead>\n    <tr style=\"text-align: right;\">\n      <th></th>\n      <th>date</th>\n      <th>time</th>\n      <th>epoch</th>\n      <th>moteid</th>\n      <th>temperature</th>\n      <th>humidity</th>\n      <th>light</th>\n      <th>voltage</th>\n    </tr>\n  </thead>\n  <tbody>\n    <tr>\n      <th>0</th>\n      <td>2004-03-31</td>\n      <td>03:38:15.757551</td>\n      <td>2</td>\n      <td>1.0</td>\n      <td>122.1530</td>\n      <td>-3.91901</td>\n      <td>11.04</td>\n      <td>2.03397</td>\n    </tr>\n    <tr>\n      <th>1</th>\n      <td>2004-02-28</td>\n      <td>00:59:16.02785</td>\n      <td>3</td>\n      <td>1.0</td>\n      <td>19.9884</td>\n      <td>37.09330</td>\n      <td>45.08</td>\n      <td>2.69964</td>\n    </tr>\n    <tr>\n      <th>2</th>\n      <td>2004-02-28</td>\n      <td>01:03:16.33393</td>\n      <td>11</td>\n      <td>1.0</td>\n      <td>19.3024</td>\n      <td>38.46290</td>\n      <td>45.08</td>\n      <td>2.68742</td>\n    </tr>\n    <tr>\n      <th>3</th>\n      <td>2004-02-28</td>\n      <td>01:06:16.013453</td>\n      <td>17</td>\n      <td>1.0</td>\n      <td>19.1652</td>\n      <td>38.80390</td>\n      <td>45.08</td>\n      <td>2.68742</td>\n    </tr>\n    <tr>\n      <th>4</th>\n      <td>2004-02-28</td>\n      <td>01:06:46.778088</td>\n      <td>18</td>\n      <td>1.0</td>\n      <td>19.1750</td>\n      <td>38.83790</td>\n      <td>45.08</td>\n      <td>2.69964</td>\n    </tr>\n    <tr>\n      <th>...</th>\n      <td>...</td>\n      <td>...</td>\n      <td>...</td>\n      <td>...</td>\n      <td>...</td>\n      <td>...</td>\n      <td>...</td>\n      <td>...</td>\n    </tr>\n    <tr>\n      <th>2313677</th>\n      <td>2004-04-02</td>\n      <td>01:14:54.164318</td>\n      <td>61274</td>\n      <td>NaN</td>\n      <td>NaN</td>\n      <td>NaN</td>\n      <td>NaN</td>\n      <td>NaN</td>\n    </tr>\n    <tr>\n      <th>2313678</th>\n      <td>2004-04-02</td>\n      <td>01:17:53.670524</td>\n      <td>61275</td>\n      <td>NaN</td>\n      <td>NaN</td>\n      <td>NaN</td>\n      <td>NaN</td>\n      <td>NaN</td>\n    </tr>\n    <tr>\n      <th>2313679</th>\n      <td>2004-04-02</td>\n      <td>01:20:52.807972</td>\n      <td>61276</td>\n      <td>NaN</td>\n      <td>NaN</td>\n      <td>NaN</td>\n      <td>NaN</td>\n      <td>NaN</td>\n    </tr>\n    <tr>\n      <th>2313680</th>\n      <td>2004-04-02</td>\n      <td>01:26:53.950342</td>\n      <td>61278</td>\n      <td>NaN</td>\n      <td>NaN</td>\n      <td>NaN</td>\n      <td>NaN</td>\n      <td>NaN</td>\n    </tr>\n    <tr>\n      <th>2313681</th>\n      <td>2004-04-02</td>\n      <td>01:35:53.897412</td>\n      <td>61280</td>\n      <td>NaN</td>\n      <td>NaN</td>\n      <td>NaN</td>\n      <td>NaN</td>\n      <td>NaN</td>\n    </tr>\n  </tbody>\n</table>\n<p>2313682 rows × 8 columns</p>\n</div>"
     },
     "metadata": {},
     "execution_count": 15
    }
   ],
   "source": [
    "df"
   ]
  },
  {
   "cell_type": "code",
   "execution_count": 22,
   "metadata": {},
   "outputs": [
    {
     "output_type": "execute_result",
     "data": {
      "text/plain": "array([ 1.,  2.,  3.,  4.,  6.,  7.,  8.,  9., 10., 11., 12., 13., 14.,\n       15., 16., 17., 18., 19., 20., 21., 22., 23., 24., 25., 26., 27.,\n       29., 30., 31., 32., 33., 34., 35., 36., 37., 38., 39., 40., 41.,\n       42., 43., 44., 45., 46., 47., 48., 49., 50., 51., 52., 53., 54.,\n       55., 56., 58.])"
     },
     "metadata": {},
     "execution_count": 22
    }
   ],
   "source": [
    "pd.unique(df_sub['moteid'])"
   ]
  },
  {
   "cell_type": "code",
   "execution_count": 24,
   "metadata": {
    "tags": []
   },
   "outputs": [
    {
     "output_type": "stream",
     "name": "stdout",
     "text": "<class 'pandas.core.frame.DataFrame'>\nInt64Index: 2219803 entries, 0 to 2313152\nData columns (total 8 columns):\n #   Column       Dtype  \n---  ------       -----  \n 0   date         object \n 1   time         object \n 2   epoch        int64  \n 3   moteid       int64  \n 4   temperature  float64\n 5   humidity     float64\n 6   light        float64\n 7   voltage      float64\ndtypes: float64(4), int64(2), object(2)\nmemory usage: 232.4+ MB\n"
    }
   ],
   "source": [
    "df_sub.info()"
   ]
  },
  {
   "cell_type": "code",
   "execution_count": 25,
   "metadata": {},
   "outputs": [],
   "source": [
    "df1 = df_sub[df_sub['moteid'] == 1]"
   ]
  },
  {
   "cell_type": "code",
   "execution_count": 36,
   "metadata": {},
   "outputs": [],
   "source": [
    "df2 = df_sub[df_sub['epoch'] == 5]"
   ]
  },
  {
   "cell_type": "code",
   "execution_count": 44,
   "metadata": {},
   "outputs": [
    {
     "output_type": "execute_result",
     "data": {
      "text/plain": "4.057558471734664"
     },
     "metadata": {},
     "execution_count": 44
    }
   ],
   "source": [
    "# missing ratio\n",
    "(len(df)-len(df_sub)) * 100 / len(df)"
   ]
  },
  {
   "cell_type": "markdown",
   "metadata": {},
   "source": [
    "## Convert date & time to datetime"
   ]
  },
  {
   "cell_type": "code",
   "execution_count": 66,
   "metadata": {},
   "outputs": [],
   "source": [
    "df_sub.to_hdf('data.h5','df_sub')"
   ]
  },
  {
   "cell_type": "code",
   "execution_count": 78,
   "metadata": {},
   "outputs": [],
   "source": [
    "df_sub['datetime'] = df_sub['date']+' '+df_sub['time']"
   ]
  },
  {
   "cell_type": "code",
   "execution_count": 80,
   "metadata": {},
   "outputs": [],
   "source": [
    "df_sub['datetime'] = pd.to_datetime(df_sub['datetime'])"
   ]
  },
  {
   "cell_type": "code",
   "execution_count": 84,
   "metadata": {},
   "outputs": [
    {
     "output_type": "execute_result",
     "data": {
      "text/plain": "               date             time  epoch  moteid  temperature  humidity  \\\n0        2004-03-31  03:38:15.757551      2       1     122.1530  -3.91901   \n1        2004-02-28   00:59:16.02785      3       1      19.9884  37.09330   \n2        2004-02-28   01:03:16.33393     11       1      19.3024  38.46290   \n3        2004-02-28  01:06:16.013453     17       1      19.1652  38.80390   \n4        2004-02-28  01:06:46.778088     18       1      19.1750  38.83790   \n...             ...              ...    ...     ...          ...       ...   \n2313148  2004-04-02  09:06:21.488182  62421      58      24.1730  21.65750   \n2313149  2004-04-02  09:07:22.173243  62423      58      24.1436  21.73100   \n2313150  2004-04-02   09:07:52.31387  62424      58      24.1436  21.65750   \n2313151  2004-04-02  09:08:52.189274  62426      58      24.1240  21.58390   \n2313152  2004-04-02  09:09:22.206544  62427      58      24.1044  21.43670   \n\n           light  voltage   date_new        time_new  \\\n0          11.04  2.03397 2004-03-31 03:38:15.757551   \n1          45.08  2.69964 2004-02-28 00:59:16.027850   \n2          45.08  2.68742 2004-02-28 01:03:16.333930   \n3          45.08  2.68742 2004-02-28 01:06:16.013453   \n4          45.08  2.69964 2004-02-28 01:06:46.778088   \n...          ...      ...        ...             ...   \n2313148  1729.60  2.78836 2004-04-02 09:06:21.488182   \n2313149  1729.60  2.78836 2004-04-02 09:07:22.173243   \n2313150  1670.72  2.78836 2004-04-02 09:07:52.313870   \n2313151  1670.72  2.78836 2004-04-02 09:08:52.189274   \n2313152  1729.60  2.78836 2004-04-02 09:09:22.206544   \n\n                          datetime  \n0       2004-03-31 03:38:15.757551  \n1       2004-02-28 00:59:16.027850  \n2       2004-02-28 01:03:16.333930  \n3       2004-02-28 01:06:16.013453  \n4       2004-02-28 01:06:46.778088  \n...                            ...  \n2313148 2004-04-02 09:06:21.488182  \n2313149 2004-04-02 09:07:22.173243  \n2313150 2004-04-02 09:07:52.313870  \n2313151 2004-04-02 09:08:52.189274  \n2313152 2004-04-02 09:09:22.206544  \n\n[2219803 rows x 11 columns]",
      "text/html": "<div>\n<style scoped>\n    .dataframe tbody tr th:only-of-type {\n        vertical-align: middle;\n    }\n\n    .dataframe tbody tr th {\n        vertical-align: top;\n    }\n\n    .dataframe thead th {\n        text-align: right;\n    }\n</style>\n<table border=\"1\" class=\"dataframe\">\n  <thead>\n    <tr style=\"text-align: right;\">\n      <th></th>\n      <th>date</th>\n      <th>time</th>\n      <th>epoch</th>\n      <th>moteid</th>\n      <th>temperature</th>\n      <th>humidity</th>\n      <th>light</th>\n      <th>voltage</th>\n      <th>date_new</th>\n      <th>time_new</th>\n      <th>datetime</th>\n    </tr>\n  </thead>\n  <tbody>\n    <tr>\n      <th>0</th>\n      <td>2004-03-31</td>\n      <td>03:38:15.757551</td>\n      <td>2</td>\n      <td>1</td>\n      <td>122.1530</td>\n      <td>-3.91901</td>\n      <td>11.04</td>\n      <td>2.03397</td>\n      <td>2004-03-31</td>\n      <td>03:38:15.757551</td>\n      <td>2004-03-31 03:38:15.757551</td>\n    </tr>\n    <tr>\n      <th>1</th>\n      <td>2004-02-28</td>\n      <td>00:59:16.02785</td>\n      <td>3</td>\n      <td>1</td>\n      <td>19.9884</td>\n      <td>37.09330</td>\n      <td>45.08</td>\n      <td>2.69964</td>\n      <td>2004-02-28</td>\n      <td>00:59:16.027850</td>\n      <td>2004-02-28 00:59:16.027850</td>\n    </tr>\n    <tr>\n      <th>2</th>\n      <td>2004-02-28</td>\n      <td>01:03:16.33393</td>\n      <td>11</td>\n      <td>1</td>\n      <td>19.3024</td>\n      <td>38.46290</td>\n      <td>45.08</td>\n      <td>2.68742</td>\n      <td>2004-02-28</td>\n      <td>01:03:16.333930</td>\n      <td>2004-02-28 01:03:16.333930</td>\n    </tr>\n    <tr>\n      <th>3</th>\n      <td>2004-02-28</td>\n      <td>01:06:16.013453</td>\n      <td>17</td>\n      <td>1</td>\n      <td>19.1652</td>\n      <td>38.80390</td>\n      <td>45.08</td>\n      <td>2.68742</td>\n      <td>2004-02-28</td>\n      <td>01:06:16.013453</td>\n      <td>2004-02-28 01:06:16.013453</td>\n    </tr>\n    <tr>\n      <th>4</th>\n      <td>2004-02-28</td>\n      <td>01:06:46.778088</td>\n      <td>18</td>\n      <td>1</td>\n      <td>19.1750</td>\n      <td>38.83790</td>\n      <td>45.08</td>\n      <td>2.69964</td>\n      <td>2004-02-28</td>\n      <td>01:06:46.778088</td>\n      <td>2004-02-28 01:06:46.778088</td>\n    </tr>\n    <tr>\n      <th>...</th>\n      <td>...</td>\n      <td>...</td>\n      <td>...</td>\n      <td>...</td>\n      <td>...</td>\n      <td>...</td>\n      <td>...</td>\n      <td>...</td>\n      <td>...</td>\n      <td>...</td>\n      <td>...</td>\n    </tr>\n    <tr>\n      <th>2313148</th>\n      <td>2004-04-02</td>\n      <td>09:06:21.488182</td>\n      <td>62421</td>\n      <td>58</td>\n      <td>24.1730</td>\n      <td>21.65750</td>\n      <td>1729.60</td>\n      <td>2.78836</td>\n      <td>2004-04-02</td>\n      <td>09:06:21.488182</td>\n      <td>2004-04-02 09:06:21.488182</td>\n    </tr>\n    <tr>\n      <th>2313149</th>\n      <td>2004-04-02</td>\n      <td>09:07:22.173243</td>\n      <td>62423</td>\n      <td>58</td>\n      <td>24.1436</td>\n      <td>21.73100</td>\n      <td>1729.60</td>\n      <td>2.78836</td>\n      <td>2004-04-02</td>\n      <td>09:07:22.173243</td>\n      <td>2004-04-02 09:07:22.173243</td>\n    </tr>\n    <tr>\n      <th>2313150</th>\n      <td>2004-04-02</td>\n      <td>09:07:52.31387</td>\n      <td>62424</td>\n      <td>58</td>\n      <td>24.1436</td>\n      <td>21.65750</td>\n      <td>1670.72</td>\n      <td>2.78836</td>\n      <td>2004-04-02</td>\n      <td>09:07:52.313870</td>\n      <td>2004-04-02 09:07:52.313870</td>\n    </tr>\n    <tr>\n      <th>2313151</th>\n      <td>2004-04-02</td>\n      <td>09:08:52.189274</td>\n      <td>62426</td>\n      <td>58</td>\n      <td>24.1240</td>\n      <td>21.58390</td>\n      <td>1670.72</td>\n      <td>2.78836</td>\n      <td>2004-04-02</td>\n      <td>09:08:52.189274</td>\n      <td>2004-04-02 09:08:52.189274</td>\n    </tr>\n    <tr>\n      <th>2313152</th>\n      <td>2004-04-02</td>\n      <td>09:09:22.206544</td>\n      <td>62427</td>\n      <td>58</td>\n      <td>24.1044</td>\n      <td>21.43670</td>\n      <td>1729.60</td>\n      <td>2.78836</td>\n      <td>2004-04-02</td>\n      <td>09:09:22.206544</td>\n      <td>2004-04-02 09:09:22.206544</td>\n    </tr>\n  </tbody>\n</table>\n<p>2219803 rows × 11 columns</p>\n</div>"
     },
     "metadata": {},
     "execution_count": 84
    }
   ],
   "source": [
    "df_sub"
   ]
  },
  {
   "cell_type": "markdown",
   "metadata": {},
   "source": [
    "## read df_sub"
   ]
  },
  {
   "cell_type": "code",
   "execution_count": null,
   "metadata": {},
   "outputs": [],
   "source": [
    "df_sub = pd.read_hdf('data1.h5','df_sub')"
   ]
  },
  {
   "cell_type": "code",
   "execution_count": 125,
   "metadata": {},
   "outputs": [],
   "source": [
    "df_sub1.to_hdf('data1.h5','df_sub')"
   ]
  },
  {
   "cell_type": "code",
   "execution_count": 121,
   "metadata": {},
   "outputs": [],
   "source": [
    "column_list = ['datetime','epoch', 'moteid', 'temperature', 'humidity', 'light', 'voltage']"
   ]
  },
  {
   "cell_type": "code",
   "execution_count": 123,
   "metadata": {},
   "outputs": [],
   "source": [
    "df_sub = df_sub[column_list]"
   ]
  }
 ]
}