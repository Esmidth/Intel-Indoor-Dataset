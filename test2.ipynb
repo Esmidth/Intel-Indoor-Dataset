{
 "metadata": {
  "language_info": {
   "codemirror_mode": {
    "name": "ipython",
    "version": 3
   },
   "file_extension": ".py",
   "mimetype": "text/x-python",
   "name": "python",
   "nbconvert_exporter": "python",
   "pygments_lexer": "ipython3",
   "version": "3.7.6-final"
  },
  "orig_nbformat": 2,
  "kernelspec": {
   "name": "python37664bitccstaconda3a2139a6822448159c7afc22ea6ab768",
   "display_name": "Python 3.7.6 64-bit ('ccs_ta': conda)"
  }
 },
 "nbformat": 4,
 "nbformat_minor": 2,
 "cells": [
  {
   "cell_type": "code",
   "execution_count": 1,
   "metadata": {},
   "outputs": [],
   "source": [
    "import numpy as np\n",
    "import pandas as pd"
   ]
  },
  {
   "cell_type": "code",
   "execution_count": 2,
   "metadata": {},
   "outputs": [],
   "source": [
    "df = pd.read_hdf('data1.h5','df_sub')"
   ]
  },
  {
   "cell_type": "code",
   "execution_count": 4,
   "metadata": {},
   "outputs": [],
   "source": [
    "df2 = df[df['epoch'] == 2]"
   ]
  },
  {
   "cell_type": "code",
   "execution_count": 6,
   "metadata": {},
   "outputs": [],
   "source": [
    "moteid_dict = {}"
   ]
  },
  {
   "cell_type": "code",
   "execution_count": 12,
   "metadata": {},
   "outputs": [],
   "source": [
    "moteid_list = pd.unique(df['moteid'])"
   ]
  },
  {
   "cell_type": "code",
   "execution_count": 13,
   "metadata": {},
   "outputs": [
    {
     "output_type": "execute_result",
     "data": {
      "text/plain": "array([ 1,  2,  3,  4,  6,  7,  8,  9, 10, 11, 12, 13, 14, 15, 16, 17, 18,\n       19, 20, 21, 22, 23, 24, 25, 26, 27, 29, 30, 31, 32, 33, 34, 35, 36,\n       37, 38, 39, 40, 41, 42, 43, 44, 45, 46, 47, 48, 49, 50, 51, 52, 53,\n       54, 55, 56, 58])"
     },
     "metadata": {},
     "execution_count": 13
    }
   ],
   "source": [
    "moteid_list"
   ]
  },
  {
   "cell_type": "code",
   "execution_count": 16,
   "metadata": {},
   "outputs": [],
   "source": [
    "for id in moteid_list:\n",
    "    num = len(df[df['moteid'] == id])\n",
    "    moteid_dict[id] = num"
   ]
  },
  {
   "cell_type": "code",
   "execution_count": 18,
   "metadata": {},
   "outputs": [
    {
     "output_type": "execute_result",
     "data": {
      "text/plain": "{1: 43047,\n 2: 46915,\n 3: 46633,\n 4: 43793,\n 6: 35666,\n 7: 55354,\n 8: 15809,\n 9: 45204,\n 10: 47155,\n 11: 41833,\n 12: 19016,\n 13: 27013,\n 14: 26667,\n 15: 2038,\n 16: 32998,\n 17: 33779,\n 18: 33433,\n 19: 39455,\n 20: 28832,\n 21: 58521,\n 22: 60164,\n 23: 62409,\n 24: 57352,\n 25: 53162,\n 26: 61513,\n 27: 37627,\n 29: 64384,\n 30: 38343,\n 31: 65689,\n 32: 43092,\n 33: 35749,\n 34: 48764,\n 35: 51338,\n 36: 56357,\n 37: 47915,\n 38: 49155,\n 39: 32736,\n 40: 46621,\n 41: 40836,\n 42: 44860,\n 43: 38656,\n 44: 47681,\n 45: 53245,\n 46: 52988,\n 47: 56858,\n 48: 58215,\n 49: 34811,\n 50: 15737,\n 51: 42259,\n 52: 34067,\n 53: 25622,\n 54: 28718,\n 55: 2850,\n 56: 2372,\n 58: 4497}"
     },
     "metadata": {},
     "execution_count": 18
    }
   ],
   "source": [
    "moteid_dict"
   ]
  },
  {
   "cell_type": "code",
   "execution_count": 21,
   "metadata": {},
   "outputs": [],
   "source": [
    "moteid_dict_sorted = sorted(moteid_dict.items(),key=lambda kv:(kv[1],kv[0]),reverse=True)"
   ]
  },
  {
   "cell_type": "code",
   "execution_count": 24,
   "metadata": {},
   "outputs": [
    {
     "output_type": "execute_result",
     "data": {
      "text/plain": "[(31, 65689),\n (29, 64384),\n (23, 62409),\n (26, 61513),\n (22, 60164),\n (21, 58521),\n (48, 58215),\n (24, 57352),\n (47, 56858),\n (36, 56357),\n (7, 55354),\n (45, 53245),\n (25, 53162),\n (46, 52988),\n (35, 51338),\n (38, 49155),\n (34, 48764),\n (37, 47915),\n (44, 47681),\n (10, 47155),\n (2, 46915),\n (3, 46633),\n (40, 46621),\n (9, 45204),\n (42, 44860),\n (4, 43793),\n (32, 43092),\n (1, 43047),\n (51, 42259),\n (11, 41833),\n (41, 40836),\n (19, 39455),\n (43, 38656),\n (30, 38343),\n (27, 37627),\n (33, 35749),\n (6, 35666),\n (49, 34811),\n (52, 34067),\n (17, 33779),\n (18, 33433),\n (16, 32998),\n (39, 32736),\n (20, 28832),\n (54, 28718),\n (13, 27013),\n (14, 26667),\n (53, 25622),\n (12, 19016),\n (8, 15809),\n (50, 15737),\n (58, 4497),\n (55, 2850),\n (56, 2372),\n (15, 2038)]"
     },
     "metadata": {},
     "execution_count": 24
    }
   ],
   "source": [
    "moteid_dict_sorted"
   ]
  }
 ]
}